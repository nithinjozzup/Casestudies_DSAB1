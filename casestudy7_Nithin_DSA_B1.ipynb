{
 "cells": [
  {
   "cell_type": "markdown",
   "id": "8ccf4695",
   "metadata": {},
   "source": [
    "# Case study on Supervised learning\n",
    "   ## Do the following in the iris dataset.\n",
    "    1. Read the dataset to the python environment.\n",
    "    2. Do necessary pre-processing steps.\n",
    "    3. Find out which classification model gives the best result to predict iris species.(also do random forest algorithm)\n"
   ]
  },
  {
   "cell_type": "markdown",
   "id": "a69c1484",
   "metadata": {},
   "source": [
    "# 1. Read the dataset to the python environment."
   ]
  },
  {
   "cell_type": "code",
   "execution_count": 1192,
   "id": "0c1a4259",
   "metadata": {},
   "outputs": [],
   "source": [
    "#importing libraries\n",
    "import pandas as pd\n",
    "import numpy as np\n",
    "import matplotlib.pyplot as plt\n",
    "import seaborn as sns\n",
    "from pylab import rcParams\n",
    "from sklearn.metrics import mean_squared_error,r2_score,f1_score,confusion_matrix,precision_score,recall_score,accuracy_score"
   ]
  },
  {
   "cell_type": "code",
   "execution_count": 1193,
   "id": "b3d2be2c",
   "metadata": {},
   "outputs": [],
   "source": [
    "df=pd.read_excel('iris.xls')"
   ]
  },
  {
   "cell_type": "code",
   "execution_count": 1194,
   "id": "645fc1c7",
   "metadata": {},
   "outputs": [
    {
     "data": {
      "text/html": [
       "<div>\n",
       "<style scoped>\n",
       "    .dataframe tbody tr th:only-of-type {\n",
       "        vertical-align: middle;\n",
       "    }\n",
       "\n",
       "    .dataframe tbody tr th {\n",
       "        vertical-align: top;\n",
       "    }\n",
       "\n",
       "    .dataframe thead th {\n",
       "        text-align: right;\n",
       "    }\n",
       "</style>\n",
       "<table border=\"1\" class=\"dataframe\">\n",
       "  <thead>\n",
       "    <tr style=\"text-align: right;\">\n",
       "      <th></th>\n",
       "      <th>SL</th>\n",
       "      <th>SW</th>\n",
       "      <th>PL</th>\n",
       "      <th>PW</th>\n",
       "      <th>Classification</th>\n",
       "    </tr>\n",
       "  </thead>\n",
       "  <tbody>\n",
       "    <tr>\n",
       "      <th>0</th>\n",
       "      <td>5.1</td>\n",
       "      <td>3.5</td>\n",
       "      <td>1.4</td>\n",
       "      <td>0.2</td>\n",
       "      <td>Iris-setosa</td>\n",
       "    </tr>\n",
       "    <tr>\n",
       "      <th>1</th>\n",
       "      <td>4.9</td>\n",
       "      <td>3.0</td>\n",
       "      <td>1.4</td>\n",
       "      <td>0.2</td>\n",
       "      <td>Iris-setosa</td>\n",
       "    </tr>\n",
       "    <tr>\n",
       "      <th>2</th>\n",
       "      <td>NaN</td>\n",
       "      <td>3.2</td>\n",
       "      <td>1.3</td>\n",
       "      <td>0.2</td>\n",
       "      <td>Iris-setosa</td>\n",
       "    </tr>\n",
       "    <tr>\n",
       "      <th>3</th>\n",
       "      <td>4.6</td>\n",
       "      <td>3.1</td>\n",
       "      <td>1.5</td>\n",
       "      <td>0.2</td>\n",
       "      <td>Iris-setosa</td>\n",
       "    </tr>\n",
       "    <tr>\n",
       "      <th>4</th>\n",
       "      <td>5.0</td>\n",
       "      <td>3.6</td>\n",
       "      <td>1.4</td>\n",
       "      <td>0.2</td>\n",
       "      <td>Iris-setosa</td>\n",
       "    </tr>\n",
       "  </tbody>\n",
       "</table>\n",
       "</div>"
      ],
      "text/plain": [
       "    SL   SW   PL   PW Classification\n",
       "0  5.1  3.5  1.4  0.2    Iris-setosa\n",
       "1  4.9  3.0  1.4  0.2    Iris-setosa\n",
       "2  NaN  3.2  1.3  0.2    Iris-setosa\n",
       "3  4.6  3.1  1.5  0.2    Iris-setosa\n",
       "4  5.0  3.6  1.4  0.2    Iris-setosa"
      ]
     },
     "execution_count": 1194,
     "metadata": {},
     "output_type": "execute_result"
    }
   ],
   "source": [
    "df.head()"
   ]
  },
  {
   "cell_type": "markdown",
   "id": "0f485054",
   "metadata": {},
   "source": [
    "# 2. Do necessary pre-processing steps."
   ]
  },
  {
   "cell_type": "markdown",
   "id": "34230d80",
   "metadata": {},
   "source": [
    "# Preprocessing"
   ]
  },
  {
   "cell_type": "code",
   "execution_count": 1195,
   "id": "af2e7faf",
   "metadata": {},
   "outputs": [
    {
     "name": "stdout",
     "output_type": "stream",
     "text": [
      "<class 'pandas.core.frame.DataFrame'>\n",
      "RangeIndex: 150 entries, 0 to 149\n",
      "Data columns (total 5 columns):\n",
      " #   Column          Non-Null Count  Dtype  \n",
      "---  ------          --------------  -----  \n",
      " 0   SL              143 non-null    float64\n",
      " 1   SW              144 non-null    float64\n",
      " 2   PL              144 non-null    float64\n",
      " 3   PW              150 non-null    float64\n",
      " 4   Classification  150 non-null    object \n",
      "dtypes: float64(4), object(1)\n",
      "memory usage: 6.0+ KB\n"
     ]
    }
   ],
   "source": [
    "df.info()"
   ]
  },
  {
   "cell_type": "code",
   "execution_count": 1196,
   "id": "9e0a9384",
   "metadata": {},
   "outputs": [
    {
     "data": {
      "text/plain": [
       "(150, 5)"
      ]
     },
     "execution_count": 1196,
     "metadata": {},
     "output_type": "execute_result"
    }
   ],
   "source": [
    "df.shape"
   ]
  },
  {
   "cell_type": "code",
   "execution_count": 1197,
   "id": "4d255be2",
   "metadata": {},
   "outputs": [
    {
     "data": {
      "text/html": [
       "<div>\n",
       "<style scoped>\n",
       "    .dataframe tbody tr th:only-of-type {\n",
       "        vertical-align: middle;\n",
       "    }\n",
       "\n",
       "    .dataframe tbody tr th {\n",
       "        vertical-align: top;\n",
       "    }\n",
       "\n",
       "    .dataframe thead th {\n",
       "        text-align: right;\n",
       "    }\n",
       "</style>\n",
       "<table border=\"1\" class=\"dataframe\">\n",
       "  <thead>\n",
       "    <tr style=\"text-align: right;\">\n",
       "      <th></th>\n",
       "      <th>SL</th>\n",
       "      <th>SW</th>\n",
       "      <th>PL</th>\n",
       "      <th>PW</th>\n",
       "      <th>Classification</th>\n",
       "    </tr>\n",
       "  </thead>\n",
       "  <tbody>\n",
       "    <tr>\n",
       "      <th>145</th>\n",
       "      <td>6.7</td>\n",
       "      <td>3.0</td>\n",
       "      <td>5.2</td>\n",
       "      <td>2.3</td>\n",
       "      <td>Iris-virginica</td>\n",
       "    </tr>\n",
       "    <tr>\n",
       "      <th>146</th>\n",
       "      <td>6.3</td>\n",
       "      <td>2.5</td>\n",
       "      <td>5.0</td>\n",
       "      <td>1.9</td>\n",
       "      <td>Iris-virginica</td>\n",
       "    </tr>\n",
       "    <tr>\n",
       "      <th>147</th>\n",
       "      <td>6.5</td>\n",
       "      <td>3.0</td>\n",
       "      <td>NaN</td>\n",
       "      <td>2.0</td>\n",
       "      <td>Iris-virginica</td>\n",
       "    </tr>\n",
       "    <tr>\n",
       "      <th>148</th>\n",
       "      <td>6.2</td>\n",
       "      <td>3.4</td>\n",
       "      <td>5.4</td>\n",
       "      <td>2.3</td>\n",
       "      <td>Iris-virginica</td>\n",
       "    </tr>\n",
       "    <tr>\n",
       "      <th>149</th>\n",
       "      <td>5.9</td>\n",
       "      <td>3.0</td>\n",
       "      <td>5.1</td>\n",
       "      <td>1.8</td>\n",
       "      <td>Iris-virginica</td>\n",
       "    </tr>\n",
       "  </tbody>\n",
       "</table>\n",
       "</div>"
      ],
      "text/plain": [
       "      SL   SW   PL   PW  Classification\n",
       "145  6.7  3.0  5.2  2.3  Iris-virginica\n",
       "146  6.3  2.5  5.0  1.9  Iris-virginica\n",
       "147  6.5  3.0  NaN  2.0  Iris-virginica\n",
       "148  6.2  3.4  5.4  2.3  Iris-virginica\n",
       "149  5.9  3.0  5.1  1.8  Iris-virginica"
      ]
     },
     "execution_count": 1197,
     "metadata": {},
     "output_type": "execute_result"
    }
   ],
   "source": [
    "df.tail()"
   ]
  },
  {
   "cell_type": "markdown",
   "id": "49d3b869",
   "metadata": {},
   "source": [
    "# Label Encoding"
   ]
  },
  {
   "cell_type": "code",
   "execution_count": 1198,
   "id": "4ca2f950",
   "metadata": {},
   "outputs": [
    {
     "data": {
      "text/plain": [
       "Iris-setosa        50\n",
       "Iris-virginica     50\n",
       "Iris-versicolor    50\n",
       "Name: Classification, dtype: int64"
      ]
     },
     "execution_count": 1198,
     "metadata": {},
     "output_type": "execute_result"
    }
   ],
   "source": [
    "df['Classification'].value_counts()"
   ]
  },
  {
   "cell_type": "code",
   "execution_count": 1199,
   "id": "00aecf1f",
   "metadata": {},
   "outputs": [],
   "source": [
    "from sklearn.preprocessing import LabelEncoder\n",
    "label_en=LabelEncoder()\n",
    "a=['Classification']\n",
    "for i in np.arange(len(a)):\n",
    "    df[a[i]]=label_en.fit_transform(df[a[i]])"
   ]
  },
  {
   "cell_type": "code",
   "execution_count": 1200,
   "id": "839748fa",
   "metadata": {},
   "outputs": [
    {
     "data": {
      "text/html": [
       "<div>\n",
       "<style scoped>\n",
       "    .dataframe tbody tr th:only-of-type {\n",
       "        vertical-align: middle;\n",
       "    }\n",
       "\n",
       "    .dataframe tbody tr th {\n",
       "        vertical-align: top;\n",
       "    }\n",
       "\n",
       "    .dataframe thead th {\n",
       "        text-align: right;\n",
       "    }\n",
       "</style>\n",
       "<table border=\"1\" class=\"dataframe\">\n",
       "  <thead>\n",
       "    <tr style=\"text-align: right;\">\n",
       "      <th></th>\n",
       "      <th>SL</th>\n",
       "      <th>SW</th>\n",
       "      <th>PL</th>\n",
       "      <th>PW</th>\n",
       "      <th>Classification</th>\n",
       "    </tr>\n",
       "  </thead>\n",
       "  <tbody>\n",
       "    <tr>\n",
       "      <th>0</th>\n",
       "      <td>5.1</td>\n",
       "      <td>3.5</td>\n",
       "      <td>1.4</td>\n",
       "      <td>0.2</td>\n",
       "      <td>0</td>\n",
       "    </tr>\n",
       "    <tr>\n",
       "      <th>1</th>\n",
       "      <td>4.9</td>\n",
       "      <td>3.0</td>\n",
       "      <td>1.4</td>\n",
       "      <td>0.2</td>\n",
       "      <td>0</td>\n",
       "    </tr>\n",
       "    <tr>\n",
       "      <th>2</th>\n",
       "      <td>NaN</td>\n",
       "      <td>3.2</td>\n",
       "      <td>1.3</td>\n",
       "      <td>0.2</td>\n",
       "      <td>0</td>\n",
       "    </tr>\n",
       "    <tr>\n",
       "      <th>3</th>\n",
       "      <td>4.6</td>\n",
       "      <td>3.1</td>\n",
       "      <td>1.5</td>\n",
       "      <td>0.2</td>\n",
       "      <td>0</td>\n",
       "    </tr>\n",
       "    <tr>\n",
       "      <th>4</th>\n",
       "      <td>5.0</td>\n",
       "      <td>3.6</td>\n",
       "      <td>1.4</td>\n",
       "      <td>0.2</td>\n",
       "      <td>0</td>\n",
       "    </tr>\n",
       "  </tbody>\n",
       "</table>\n",
       "</div>"
      ],
      "text/plain": [
       "    SL   SW   PL   PW  Classification\n",
       "0  5.1  3.5  1.4  0.2               0\n",
       "1  4.9  3.0  1.4  0.2               0\n",
       "2  NaN  3.2  1.3  0.2               0\n",
       "3  4.6  3.1  1.5  0.2               0\n",
       "4  5.0  3.6  1.4  0.2               0"
      ]
     },
     "execution_count": 1200,
     "metadata": {},
     "output_type": "execute_result"
    }
   ],
   "source": [
    "df.head()"
   ]
  },
  {
   "cell_type": "code",
   "execution_count": 1201,
   "id": "8f64a88a",
   "metadata": {},
   "outputs": [
    {
     "data": {
      "text/html": [
       "<div>\n",
       "<style scoped>\n",
       "    .dataframe tbody tr th:only-of-type {\n",
       "        vertical-align: middle;\n",
       "    }\n",
       "\n",
       "    .dataframe tbody tr th {\n",
       "        vertical-align: top;\n",
       "    }\n",
       "\n",
       "    .dataframe thead th {\n",
       "        text-align: right;\n",
       "    }\n",
       "</style>\n",
       "<table border=\"1\" class=\"dataframe\">\n",
       "  <thead>\n",
       "    <tr style=\"text-align: right;\">\n",
       "      <th></th>\n",
       "      <th>SL</th>\n",
       "      <th>SW</th>\n",
       "      <th>PL</th>\n",
       "      <th>PW</th>\n",
       "      <th>Classification</th>\n",
       "    </tr>\n",
       "  </thead>\n",
       "  <tbody>\n",
       "    <tr>\n",
       "      <th>145</th>\n",
       "      <td>6.7</td>\n",
       "      <td>3.0</td>\n",
       "      <td>5.2</td>\n",
       "      <td>2.3</td>\n",
       "      <td>2</td>\n",
       "    </tr>\n",
       "    <tr>\n",
       "      <th>146</th>\n",
       "      <td>6.3</td>\n",
       "      <td>2.5</td>\n",
       "      <td>5.0</td>\n",
       "      <td>1.9</td>\n",
       "      <td>2</td>\n",
       "    </tr>\n",
       "    <tr>\n",
       "      <th>147</th>\n",
       "      <td>6.5</td>\n",
       "      <td>3.0</td>\n",
       "      <td>NaN</td>\n",
       "      <td>2.0</td>\n",
       "      <td>2</td>\n",
       "    </tr>\n",
       "    <tr>\n",
       "      <th>148</th>\n",
       "      <td>6.2</td>\n",
       "      <td>3.4</td>\n",
       "      <td>5.4</td>\n",
       "      <td>2.3</td>\n",
       "      <td>2</td>\n",
       "    </tr>\n",
       "    <tr>\n",
       "      <th>149</th>\n",
       "      <td>5.9</td>\n",
       "      <td>3.0</td>\n",
       "      <td>5.1</td>\n",
       "      <td>1.8</td>\n",
       "      <td>2</td>\n",
       "    </tr>\n",
       "  </tbody>\n",
       "</table>\n",
       "</div>"
      ],
      "text/plain": [
       "      SL   SW   PL   PW  Classification\n",
       "145  6.7  3.0  5.2  2.3               2\n",
       "146  6.3  2.5  5.0  1.9               2\n",
       "147  6.5  3.0  NaN  2.0               2\n",
       "148  6.2  3.4  5.4  2.3               2\n",
       "149  5.9  3.0  5.1  1.8               2"
      ]
     },
     "execution_count": 1201,
     "metadata": {},
     "output_type": "execute_result"
    }
   ],
   "source": [
    "df.tail()"
   ]
  },
  {
   "cell_type": "code",
   "execution_count": 1202,
   "id": "6b32c9d0",
   "metadata": {},
   "outputs": [
    {
     "data": {
      "text/plain": [
       "0    50\n",
       "1    50\n",
       "2    50\n",
       "Name: Classification, dtype: int64"
      ]
     },
     "execution_count": 1202,
     "metadata": {},
     "output_type": "execute_result"
    }
   ],
   "source": [
    "df['Classification'].value_counts()"
   ]
  },
  {
   "cell_type": "markdown",
   "id": "423d1bff",
   "metadata": {},
   "source": [
    "# Insight\n",
    "    The classification column which is the target variable is label encoded"
   ]
  },
  {
   "cell_type": "markdown",
   "id": "99342385",
   "metadata": {},
   "source": [
    "# Checking for missing values"
   ]
  },
  {
   "cell_type": "code",
   "execution_count": 1203,
   "id": "b2ca1729",
   "metadata": {},
   "outputs": [
    {
     "data": {
      "text/plain": [
       "SL                7\n",
       "SW                6\n",
       "PL                6\n",
       "PW                0\n",
       "Classification    0\n",
       "dtype: int64"
      ]
     },
     "execution_count": 1203,
     "metadata": {},
     "output_type": "execute_result"
    }
   ],
   "source": [
    "df.isna().sum()"
   ]
  },
  {
   "cell_type": "markdown",
   "id": "28f03bc9",
   "metadata": {},
   "source": [
    "# Plotting frequency"
   ]
  },
  {
   "cell_type": "code",
   "execution_count": 1204,
   "id": "51011a90",
   "metadata": {},
   "outputs": [
    {
     "data": {
      "image/png": "[encoded data removed]",
      "text/plain": [
       "<Figure size 1440x1080 with 4 Axes>"
      ]
     },
     "metadata": {
      "needs_background": "light"
     },
     "output_type": "display_data"
    }
   ],
   "source": [
    "freqgraph=df.select_dtypes(include=['float'])\n",
    "freqgraph.hist(figsize=(20,15))\n",
    "plt.show()"
   ]
  },
  {
   "cell_type": "markdown",
   "id": "fb0982f2",
   "metadata": {},
   "source": [
    "# Filling missing values using KNN Imputer"
   ]
  },
  {
   "cell_type": "code",
   "execution_count": 1205,
   "id": "286fc631",
   "metadata": {},
   "outputs": [],
   "source": [
    "#KNN_Imputer"
   ]
  },
  {
   "cell_type": "code",
   "execution_count": 1206,
   "id": "f8bebc33",
   "metadata": {},
   "outputs": [],
   "source": [
    "from sklearn.impute import KNNImputer\n",
    "imputer = KNNImputer(n_neighbors=2)\n",
    "df = pd.DataFrame(imputer.fit_transform(df),columns = df.columns)"
   ]
  },
  {
   "cell_type": "code",
   "execution_count": 1207,
   "id": "f0c155bc",
   "metadata": {},
   "outputs": [
    {
     "data": {
      "text/html": [
       "<div>\n",
       "<style scoped>\n",
       "    .dataframe tbody tr th:only-of-type {\n",
       "        vertical-align: middle;\n",
       "    }\n",
       "\n",
       "    .dataframe tbody tr th {\n",
       "        vertical-align: top;\n",
       "    }\n",
       "\n",
       "    .dataframe thead th {\n",
       "        text-align: right;\n",
       "    }\n",
       "</style>\n",
       "<table border=\"1\" class=\"dataframe\">\n",
       "  <thead>\n",
       "    <tr style=\"text-align: right;\">\n",
       "      <th></th>\n",
       "      <th>SL</th>\n",
       "      <th>SW</th>\n",
       "      <th>PL</th>\n",
       "      <th>PW</th>\n",
       "      <th>Classification</th>\n",
       "    </tr>\n",
       "  </thead>\n",
       "  <tbody>\n",
       "    <tr>\n",
       "      <th>0</th>\n",
       "      <td>5.1</td>\n",
       "      <td>3.5</td>\n",
       "      <td>1.4</td>\n",
       "      <td>0.2</td>\n",
       "      <td>0.0</td>\n",
       "    </tr>\n",
       "    <tr>\n",
       "      <th>1</th>\n",
       "      <td>4.9</td>\n",
       "      <td>3.0</td>\n",
       "      <td>1.4</td>\n",
       "      <td>0.2</td>\n",
       "      <td>0.0</td>\n",
       "    </tr>\n",
       "    <tr>\n",
       "      <th>2</th>\n",
       "      <td>4.7</td>\n",
       "      <td>3.2</td>\n",
       "      <td>1.3</td>\n",
       "      <td>0.2</td>\n",
       "      <td>0.0</td>\n",
       "    </tr>\n",
       "    <tr>\n",
       "      <th>3</th>\n",
       "      <td>4.6</td>\n",
       "      <td>3.1</td>\n",
       "      <td>1.5</td>\n",
       "      <td>0.2</td>\n",
       "      <td>0.0</td>\n",
       "    </tr>\n",
       "    <tr>\n",
       "      <th>4</th>\n",
       "      <td>5.0</td>\n",
       "      <td>3.6</td>\n",
       "      <td>1.4</td>\n",
       "      <td>0.2</td>\n",
       "      <td>0.0</td>\n",
       "    </tr>\n",
       "  </tbody>\n",
       "</table>\n",
       "</div>"
      ],
      "text/plain": [
       "    SL   SW   PL   PW  Classification\n",
       "0  5.1  3.5  1.4  0.2             0.0\n",
       "1  4.9  3.0  1.4  0.2             0.0\n",
       "2  4.7  3.2  1.3  0.2             0.0\n",
       "3  4.6  3.1  1.5  0.2             0.0\n",
       "4  5.0  3.6  1.4  0.2             0.0"
      ]
     },
     "execution_count": 1207,
     "metadata": {},
     "output_type": "execute_result"
    }
   ],
   "source": [
    "df.head()"
   ]
  },
  {
   "cell_type": "code",
   "execution_count": 1208,
   "id": "c9662126",
   "metadata": {},
   "outputs": [
    {
     "data": {
      "text/plain": [
       "SL                0\n",
       "SW                0\n",
       "PL                0\n",
       "PW                0\n",
       "Classification    0\n",
       "dtype: int64"
      ]
     },
     "execution_count": 1208,
     "metadata": {},
     "output_type": "execute_result"
    }
   ],
   "source": [
    "df.isna().sum()"
   ]
  },
  {
   "cell_type": "markdown",
   "id": "f40738cf",
   "metadata": {},
   "source": [
    "# Insight\n",
    "    As it is found that KNN imputer helps replace the missing values in each column comparing it with similar columns, I find this more efficient than using the mean, median or mode to fill the missing values."
   ]
  },
  {
   "cell_type": "markdown",
   "id": "2babf194",
   "metadata": {},
   "source": [
    "# Handling Outliers"
   ]
  },
  {
   "cell_type": "code",
   "execution_count": 1209,
   "id": "27d8bf3a",
   "metadata": {},
   "outputs": [
    {
     "data": {
      "text/plain": [
       "{'whiskers': [<matplotlib.lines.Line2D at 0x1e3d4dafb20>,\n",
       "  <matplotlib.lines.Line2D at 0x1e3d4dafe80>,\n",
       "  <matplotlib.lines.Line2D at 0x1e3d4749310>,\n",
       "  <matplotlib.lines.Line2D at 0x1e3d4749640>,\n",
       "  <matplotlib.lines.Line2D at 0x1e3d47579a0>,\n",
       "  <matplotlib.lines.Line2D at 0x1e3d4757cd0>,\n",
       "  <matplotlib.lines.Line2D at 0x1e3d476f070>,\n",
       "  <matplotlib.lines.Line2D at 0x1e3d476f3a0>],\n",
       " 'caps': [<matplotlib.lines.Line2D at 0x1e3d4dbc220>,\n",
       "  <matplotlib.lines.Line2D at 0x1e3d4dbc580>,\n",
       "  <matplotlib.lines.Line2D at 0x1e3d4749970>,\n",
       "  <matplotlib.lines.Line2D at 0x1e3d4749ca0>,\n",
       "  <matplotlib.lines.Line2D at 0x1e3d474f040>,\n",
       "  <matplotlib.lines.Line2D at 0x1e3d474f370>,\n",
       "  <matplotlib.lines.Line2D at 0x1e3d476f6d0>,\n",
       "  <matplotlib.lines.Line2D at 0x1e3d476fa00>],\n",
       " 'boxes': [<matplotlib.lines.Line2D at 0x1e3d4daf7c0>,\n",
       "  <matplotlib.lines.Line2D at 0x1e3d4dbcfa0>,\n",
       "  <matplotlib.lines.Line2D at 0x1e3d4757670>,\n",
       "  <matplotlib.lines.Line2D at 0x1e3d474fd00>],\n",
       " 'medians': [<matplotlib.lines.Line2D at 0x1e3d4dbc8e0>,\n",
       "  <matplotlib.lines.Line2D at 0x1e3d4749fd0>,\n",
       "  <matplotlib.lines.Line2D at 0x1e3d474f6a0>,\n",
       "  <matplotlib.lines.Line2D at 0x1e3d476fd30>],\n",
       " 'fliers': [<matplotlib.lines.Line2D at 0x1e3d4dbcc40>,\n",
       "  <matplotlib.lines.Line2D at 0x1e3d4757340>,\n",
       "  <matplotlib.lines.Line2D at 0x1e3d474f9d0>,\n",
       "  <matplotlib.lines.Line2D at 0x1e3d477d0a0>],\n",
       " 'means': []}"
      ]
     },
     "execution_count": 1209,
     "metadata": {},
     "output_type": "execute_result"
    },
    {
     "data": {
      "image/png": "[encoded data removed]",
      "text/plain": [
       "<Figure size 432x288 with 1 Axes>"
      ]
     },
     "metadata": {
      "needs_background": "light"
     },
     "output_type": "display_data"
    }
   ],
   "source": [
    "plt.boxplot(df[['SL', 'SW', 'PL', 'PW']])"
   ]
  },
  {
   "cell_type": "code",
   "execution_count": 1210,
   "id": "be3a17ea",
   "metadata": {},
   "outputs": [
    {
     "data": {
      "text/plain": [
       "{'whiskers': [<matplotlib.lines.Line2D at 0x1e3d330a040>,\n",
       "  <matplotlib.lines.Line2D at 0x1e3d330a550>],\n",
       " 'caps': [<matplotlib.lines.Line2D at 0x1e3d330a9d0>,\n",
       "  <matplotlib.lines.Line2D at 0x1e3cf7c5370>],\n",
       " 'boxes': [<matplotlib.lines.Line2D at 0x1e3d32d5a00>],\n",
       " 'medians': [<matplotlib.lines.Line2D at 0x1e3cf7c5a60>],\n",
       " 'fliers': [<matplotlib.lines.Line2D at 0x1e3d130ac70>],\n",
       " 'means': []}"
      ]
     },
     "execution_count": 1210,
     "metadata": {},
     "output_type": "execute_result"
    },
    {
     "data": {
      "image/png": "[encoded data removed]",
      "text/plain": [
       "<Figure size 432x288 with 1 Axes>"
      ]
     },
     "metadata": {
      "needs_background": "light"
     },
     "output_type": "display_data"
    }
   ],
   "source": [
    "plt.boxplot(df['SW'])"
   ]
  },
  {
   "cell_type": "code",
   "execution_count": 1211,
   "id": "6c30e0d1",
   "metadata": {},
   "outputs": [
    {
     "name": "stdout",
     "output_type": "stream",
     "text": [
      "2.8\n",
      "3.0\n",
      "3.3\n",
      "2.05\n",
      "4.05\n"
     ]
    }
   ],
   "source": [
    "Q1=np.percentile(df['SW'],25,interpolation='midpoint')\n",
    "Q2=np.percentile(df['SW'],50,interpolation='midpoint')\n",
    "Q3=np.percentile(df['SW'],75,interpolation='midpoint')\n",
    "print(Q1)\n",
    "print(Q2)\n",
    "print(Q3)\n",
    "IQR=Q3-Q1\n",
    "low_lim=Q1-1.5*IQR\n",
    "up_lim=Q3+1.5*IQR\n",
    "print(low_lim)\n",
    "print(up_lim)"
   ]
  },
  {
   "cell_type": "code",
   "execution_count": 1212,
   "id": "de5f8da5",
   "metadata": {},
   "outputs": [
    {
     "data": {
      "text/plain": [
       "[4.4, 4.1, 4.2, 2.0]"
      ]
     },
     "execution_count": 1212,
     "metadata": {},
     "output_type": "execute_result"
    }
   ],
   "source": [
    "outlier=[]\n",
    "for x in df['SW']:\n",
    "    if((x>up_lim) or(x<low_lim)):\n",
    "        outlier.append(x)\n",
    "outlier"
   ]
  },
  {
   "cell_type": "code",
   "execution_count": 1213,
   "id": "80d09e11",
   "metadata": {},
   "outputs": [
    {
     "data": {
      "text/plain": [
       "Int64Index([60], dtype='int64')"
      ]
     },
     "execution_count": 1213,
     "metadata": {},
     "output_type": "execute_result"
    }
   ],
   "source": [
    "ind=df['SW']<low_lim\n",
    "df.loc[ind].index"
   ]
  },
  {
   "cell_type": "code",
   "execution_count": 1214,
   "id": "c060c1b9",
   "metadata": {},
   "outputs": [
    {
     "data": {
      "text/plain": [
       "Int64Index([15, 32, 33], dtype='int64')"
      ]
     },
     "execution_count": 1214,
     "metadata": {},
     "output_type": "execute_result"
    }
   ],
   "source": [
    "ind1=df['SW']>up_lim\n",
    "df.loc[ind1].index"
   ]
  },
  {
   "cell_type": "code",
   "execution_count": 1215,
   "id": "304d5eca",
   "metadata": {},
   "outputs": [],
   "source": [
    "df.drop([15, 32, 33, 60],inplace=True)"
   ]
  },
  {
   "cell_type": "code",
   "execution_count": 1216,
   "id": "2c166d93",
   "metadata": {},
   "outputs": [
    {
     "data": {
      "text/plain": [
       "{'whiskers': [<matplotlib.lines.Line2D at 0x1e3d4d7b160>,\n",
       "  <matplotlib.lines.Line2D at 0x1e3d4d7b760>,\n",
       "  <matplotlib.lines.Line2D at 0x1e3d473a670>,\n",
       "  <matplotlib.lines.Line2D at 0x1e3d473a460>,\n",
       "  <matplotlib.lines.Line2D at 0x1e3d4d43070>,\n",
       "  <matplotlib.lines.Line2D at 0x1e3d4d43970>,\n",
       "  <matplotlib.lines.Line2D at 0x1e3d30f4bb0>,\n",
       "  <matplotlib.lines.Line2D at 0x1e3d30f4a60>],\n",
       " 'caps': [<matplotlib.lines.Line2D at 0x1e3d4d7baf0>,\n",
       "  <matplotlib.lines.Line2D at 0x1e3d4d7b610>,\n",
       "  <matplotlib.lines.Line2D at 0x1e3d473a8e0>,\n",
       "  <matplotlib.lines.Line2D at 0x1e3d30d2c10>,\n",
       "  <matplotlib.lines.Line2D at 0x1e3d4d43580>,\n",
       "  <matplotlib.lines.Line2D at 0x1e3d4d43ac0>,\n",
       "  <matplotlib.lines.Line2D at 0x1e3d2e33df0>,\n",
       "  <matplotlib.lines.Line2D at 0x1e3d2fa24f0>],\n",
       " 'boxes': [<matplotlib.lines.Line2D at 0x1e3d4d61250>,\n",
       "  <matplotlib.lines.Line2D at 0x1e3d473a220>,\n",
       "  <matplotlib.lines.Line2D at 0x1e3d30d2a30>,\n",
       "  <matplotlib.lines.Line2D at 0x1e3d30f4340>],\n",
       " 'medians': [<matplotlib.lines.Line2D at 0x1e3d2f9cc70>,\n",
       "  <matplotlib.lines.Line2D at 0x1e3d30d22e0>,\n",
       "  <matplotlib.lines.Line2D at 0x1e3d4d43e50>,\n",
       "  <matplotlib.lines.Line2D at 0x1e3cf3ff2b0>],\n",
       " 'fliers': [<matplotlib.lines.Line2D at 0x1e3d2f9cf40>,\n",
       "  <matplotlib.lines.Line2D at 0x1e3d30d2730>,\n",
       "  <matplotlib.lines.Line2D at 0x1e3d30f48b0>,\n",
       "  <matplotlib.lines.Line2D at 0x1e3d4d738e0>],\n",
       " 'means': []}"
      ]
     },
     "execution_count": 1216,
     "metadata": {},
     "output_type": "execute_result"
    },
    {
     "data": {
      "image/png": "[encoded data removed]",
      "text/plain": [
       "<Figure size 432x288 with 1 Axes>"
      ]
     },
     "metadata": {
      "needs_background": "light"
     },
     "output_type": "display_data"
    }
   ],
   "source": [
    "plt.boxplot(df[['SL', 'SW', 'PL', 'PW']])"
   ]
  },
  {
   "cell_type": "markdown",
   "id": "c3b51574",
   "metadata": {},
   "source": [
    "# Insight\n",
    "    All outliers are removed."
   ]
  },
  {
   "cell_type": "markdown",
   "id": "b31eb562",
   "metadata": {},
   "source": [
    "# Feature Engineering"
   ]
  },
  {
   "cell_type": "code",
   "execution_count": 1217,
   "id": "83f99324",
   "metadata": {},
   "outputs": [
    {
     "data": {
      "text/plain": [
       "Index(['SL', 'SW', 'PL', 'PW', 'Classification'], dtype='object')"
      ]
     },
     "execution_count": 1217,
     "metadata": {},
     "output_type": "execute_result"
    }
   ],
   "source": [
    "df.columns"
   ]
  },
  {
   "cell_type": "code",
   "execution_count": 1218,
   "id": "b18fbd34",
   "metadata": {},
   "outputs": [],
   "source": [
    "df['mean']=df[['SL', 'SW', 'PL', 'PW']].mean(axis=1)\n",
    "df['sum']=df[['SL', 'SW', 'PL', 'PW']].sum(axis=1)\n",
    "df['skew']=df[['SL', 'SW', 'PL', 'PW']].skew(axis=1)\n",
    "df['kurt']=df[['SL', 'SW', 'PL', 'PW']].kurt(axis=1)"
   ]
  },
  {
   "cell_type": "code",
   "execution_count": 1219,
   "id": "f4f9dfa7",
   "metadata": {},
   "outputs": [
    {
     "data": {
      "text/html": [
       "<div>\n",
       "<style scoped>\n",
       "    .dataframe tbody tr th:only-of-type {\n",
       "        vertical-align: middle;\n",
       "    }\n",
       "\n",
       "    .dataframe tbody tr th {\n",
       "        vertical-align: top;\n",
       "    }\n",
       "\n",
       "    .dataframe thead th {\n",
       "        text-align: right;\n",
       "    }\n",
       "</style>\n",
       "<table border=\"1\" class=\"dataframe\">\n",
       "  <thead>\n",
       "    <tr style=\"text-align: right;\">\n",
       "      <th></th>\n",
       "      <th>SL</th>\n",
       "      <th>SW</th>\n",
       "      <th>PL</th>\n",
       "      <th>PW</th>\n",
       "      <th>Classification</th>\n",
       "      <th>mean</th>\n",
       "      <th>sum</th>\n",
       "      <th>skew</th>\n",
       "      <th>kurt</th>\n",
       "    </tr>\n",
       "  </thead>\n",
       "  <tbody>\n",
       "    <tr>\n",
       "      <th>0</th>\n",
       "      <td>5.1</td>\n",
       "      <td>3.5</td>\n",
       "      <td>1.4</td>\n",
       "      <td>0.2</td>\n",
       "      <td>0.0</td>\n",
       "      <td>2.550</td>\n",
       "      <td>10.2</td>\n",
       "      <td>0.189328</td>\n",
       "      <td>-2.368842</td>\n",
       "    </tr>\n",
       "    <tr>\n",
       "      <th>1</th>\n",
       "      <td>4.9</td>\n",
       "      <td>3.0</td>\n",
       "      <td>1.4</td>\n",
       "      <td>0.2</td>\n",
       "      <td>0.0</td>\n",
       "      <td>2.375</td>\n",
       "      <td>9.5</td>\n",
       "      <td>0.404389</td>\n",
       "      <td>-1.091924</td>\n",
       "    </tr>\n",
       "    <tr>\n",
       "      <th>2</th>\n",
       "      <td>4.7</td>\n",
       "      <td>3.2</td>\n",
       "      <td>1.3</td>\n",
       "      <td>0.2</td>\n",
       "      <td>0.0</td>\n",
       "      <td>2.350</td>\n",
       "      <td>9.4</td>\n",
       "      <td>0.208782</td>\n",
       "      <td>-2.276657</td>\n",
       "    </tr>\n",
       "    <tr>\n",
       "      <th>3</th>\n",
       "      <td>4.6</td>\n",
       "      <td>3.1</td>\n",
       "      <td>1.5</td>\n",
       "      <td>0.2</td>\n",
       "      <td>0.0</td>\n",
       "      <td>2.350</td>\n",
       "      <td>9.4</td>\n",
       "      <td>0.120130</td>\n",
       "      <td>-1.575170</td>\n",
       "    </tr>\n",
       "    <tr>\n",
       "      <th>4</th>\n",
       "      <td>5.0</td>\n",
       "      <td>3.6</td>\n",
       "      <td>1.4</td>\n",
       "      <td>0.2</td>\n",
       "      <td>0.0</td>\n",
       "      <td>2.550</td>\n",
       "      <td>10.2</td>\n",
       "      <td>0.090753</td>\n",
       "      <td>-2.787004</td>\n",
       "    </tr>\n",
       "  </tbody>\n",
       "</table>\n",
       "</div>"
      ],
      "text/plain": [
       "    SL   SW   PL   PW  Classification   mean   sum      skew      kurt\n",
       "0  5.1  3.5  1.4  0.2             0.0  2.550  10.2  0.189328 -2.368842\n",
       "1  4.9  3.0  1.4  0.2             0.0  2.375   9.5  0.404389 -1.091924\n",
       "2  4.7  3.2  1.3  0.2             0.0  2.350   9.4  0.208782 -2.276657\n",
       "3  4.6  3.1  1.5  0.2             0.0  2.350   9.4  0.120130 -1.575170\n",
       "4  5.0  3.6  1.4  0.2             0.0  2.550  10.2  0.090753 -2.787004"
      ]
     },
     "execution_count": 1219,
     "metadata": {},
     "output_type": "execute_result"
    }
   ],
   "source": [
    "df.head()"
   ]
  },
  {
   "cell_type": "code",
   "execution_count": 1220,
   "id": "9062d2be",
   "metadata": {},
   "outputs": [
    {
     "data": {
      "text/html": [
       "<div>\n",
       "<style scoped>\n",
       "    .dataframe tbody tr th:only-of-type {\n",
       "        vertical-align: middle;\n",
       "    }\n",
       "\n",
       "    .dataframe tbody tr th {\n",
       "        vertical-align: top;\n",
       "    }\n",
       "\n",
       "    .dataframe thead th {\n",
       "        text-align: right;\n",
       "    }\n",
       "</style>\n",
       "<table border=\"1\" class=\"dataframe\">\n",
       "  <thead>\n",
       "    <tr style=\"text-align: right;\">\n",
       "      <th></th>\n",
       "      <th>SL</th>\n",
       "      <th>SW</th>\n",
       "      <th>PL</th>\n",
       "      <th>PW</th>\n",
       "      <th>Classification</th>\n",
       "      <th>mean</th>\n",
       "      <th>sum</th>\n",
       "      <th>skew</th>\n",
       "      <th>kurt</th>\n",
       "    </tr>\n",
       "  </thead>\n",
       "  <tbody>\n",
       "    <tr>\n",
       "      <th>145</th>\n",
       "      <td>6.7</td>\n",
       "      <td>3.0</td>\n",
       "      <td>5.2</td>\n",
       "      <td>2.3</td>\n",
       "      <td>2.0</td>\n",
       "      <td>4.300</td>\n",
       "      <td>17.2</td>\n",
       "      <td>0.351514</td>\n",
       "      <td>-2.983606</td>\n",
       "    </tr>\n",
       "    <tr>\n",
       "      <th>146</th>\n",
       "      <td>6.3</td>\n",
       "      <td>2.5</td>\n",
       "      <td>5.0</td>\n",
       "      <td>1.9</td>\n",
       "      <td>2.0</td>\n",
       "      <td>3.925</td>\n",
       "      <td>15.7</td>\n",
       "      <td>0.256478</td>\n",
       "      <td>-3.790103</td>\n",
       "    </tr>\n",
       "    <tr>\n",
       "      <th>147</th>\n",
       "      <td>6.5</td>\n",
       "      <td>3.0</td>\n",
       "      <td>5.3</td>\n",
       "      <td>2.0</td>\n",
       "      <td>2.0</td>\n",
       "      <td>4.200</td>\n",
       "      <td>16.8</td>\n",
       "      <td>0.085072</td>\n",
       "      <td>-3.407316</td>\n",
       "    </tr>\n",
       "    <tr>\n",
       "      <th>148</th>\n",
       "      <td>6.2</td>\n",
       "      <td>3.4</td>\n",
       "      <td>5.4</td>\n",
       "      <td>2.3</td>\n",
       "      <td>2.0</td>\n",
       "      <td>4.325</td>\n",
       "      <td>17.3</td>\n",
       "      <td>-0.146244</td>\n",
       "      <td>-3.387994</td>\n",
       "    </tr>\n",
       "    <tr>\n",
       "      <th>149</th>\n",
       "      <td>5.9</td>\n",
       "      <td>3.0</td>\n",
       "      <td>5.1</td>\n",
       "      <td>1.8</td>\n",
       "      <td>2.0</td>\n",
       "      <td>3.950</td>\n",
       "      <td>15.8</td>\n",
       "      <td>-0.185387</td>\n",
       "      <td>-3.345923</td>\n",
       "    </tr>\n",
       "  </tbody>\n",
       "</table>\n",
       "</div>"
      ],
      "text/plain": [
       "      SL   SW   PL   PW  Classification   mean   sum      skew      kurt\n",
       "145  6.7  3.0  5.2  2.3             2.0  4.300  17.2  0.351514 -2.983606\n",
       "146  6.3  2.5  5.0  1.9             2.0  3.925  15.7  0.256478 -3.790103\n",
       "147  6.5  3.0  5.3  2.0             2.0  4.200  16.8  0.085072 -3.407316\n",
       "148  6.2  3.4  5.4  2.3             2.0  4.325  17.3 -0.146244 -3.387994\n",
       "149  5.9  3.0  5.1  1.8             2.0  3.950  15.8 -0.185387 -3.345923"
      ]
     },
     "execution_count": 1220,
     "metadata": {},
     "output_type": "execute_result"
    }
   ],
   "source": [
    "df.tail()"
   ]
  },
  {
   "cell_type": "code",
   "execution_count": 1221,
   "id": "aec4a48f",
   "metadata": {},
   "outputs": [
    {
     "data": {
      "text/plain": [
       "(146, 9)"
      ]
     },
     "execution_count": 1221,
     "metadata": {},
     "output_type": "execute_result"
    }
   ],
   "source": [
    "df.shape"
   ]
  },
  {
   "cell_type": "markdown",
   "id": "db871788",
   "metadata": {},
   "source": [
    "# Insight\n",
    "    Four New features are added :\n",
    "    1 mean\n",
    "    2 sum\t\n",
    "    3 skew\t\n",
    "    4 kurt"
   ]
  },
  {
   "cell_type": "markdown",
   "id": "17efca69",
   "metadata": {},
   "source": [
    "# Splitting the data"
   ]
  },
  {
   "cell_type": "code",
   "execution_count": 1222,
   "id": "70bd3093",
   "metadata": {},
   "outputs": [
    {
     "data": {
      "text/plain": [
       "Index(['SL', 'SW', 'PL', 'PW', 'Classification', 'mean', 'sum', 'skew',\n",
       "       'kurt'],\n",
       "      dtype='object')"
      ]
     },
     "execution_count": 1222,
     "metadata": {},
     "output_type": "execute_result"
    }
   ],
   "source": [
    "df.columns"
   ]
  },
  {
   "cell_type": "code",
   "execution_count": 1223,
   "id": "6bed3c4c",
   "metadata": {},
   "outputs": [],
   "source": [
    "x=df.drop(['Classification'],axis=1)\n",
    "y=df['Classification']\n",
    "from sklearn.model_selection import train_test_split\n",
    "x_train,x_test,y_train,y_test=train_test_split(x,y,test_size=0.2,random_state=42)"
   ]
  },
  {
   "cell_type": "code",
   "execution_count": 1224,
   "id": "f6592336",
   "metadata": {},
   "outputs": [
    {
     "data": {
      "text/plain": [
       "(116, 8)"
      ]
     },
     "execution_count": 1224,
     "metadata": {},
     "output_type": "execute_result"
    }
   ],
   "source": [
    "x_train.shape"
   ]
  },
  {
   "cell_type": "code",
   "execution_count": 1225,
   "id": "ffb28d7f",
   "metadata": {},
   "outputs": [
    {
     "data": {
      "text/plain": [
       "(30, 8)"
      ]
     },
     "execution_count": 1225,
     "metadata": {},
     "output_type": "execute_result"
    }
   ],
   "source": [
    "x_test.shape"
   ]
  },
  {
   "cell_type": "markdown",
   "id": "6559c84d",
   "metadata": {},
   "source": [
    "# 3. Find out which classification model gives the best result to predict iris species.(also do random forest algorithm)"
   ]
  },
  {
   "cell_type": "markdown",
   "id": "8fa67602",
   "metadata": {},
   "source": [
    "# Scaling using MinMax Scaler"
   ]
  },
  {
   "cell_type": "code",
   "execution_count": 1226,
   "id": "361da39e",
   "metadata": {},
   "outputs": [],
   "source": [
    "from sklearn import preprocessing\n",
    "min_max= preprocessing.MinMaxScaler(feature_range=(0,1))\n",
    "x_test= min_max.fit_transform(x_test)\n",
    "x_train= min_max.fit_transform(x_train)\n",
    "x_train=pd.DataFrame(x_train)\n",
    "x_test=pd.DataFrame(x_test)"
   ]
  },
  {
   "cell_type": "markdown",
   "id": "ff81e333",
   "metadata": {},
   "source": [
    "# Insight\n",
    " We use MinMax Scaler as it will preserve the shape of the dataset (no distortion) and since the distrubution is not normally distrubuted for PL and PW as seen from the Frequency plot."
   ]
  },
  {
   "cell_type": "markdown",
   "id": "f07dad14",
   "metadata": {},
   "source": [
    "# 1. Building the model using RandomForestClassifier"
   ]
  },
  {
   "cell_type": "code",
   "execution_count": 1227,
   "id": "e968ce1b",
   "metadata": {},
   "outputs": [],
   "source": [
    "from sklearn.ensemble import RandomForestClassifier\n",
    "rf=RandomForestClassifier()\n",
    "rf.fit(x_train,y_train)\n",
    "y_pred=rf.predict(x_test)"
   ]
  },
  {
   "cell_type": "code",
   "execution_count": 1228,
   "id": "756d454c",
   "metadata": {},
   "outputs": [
    {
     "name": "stdout",
     "output_type": "stream",
     "text": [
      "Accuracy is: 0.9666666666666667\n",
      "Precision is: 0.9703703703703703\n",
      "Recall is: 0.9666666666666667\n",
      "F1 Score is: 0.9667698658410733\n"
     ]
    }
   ],
   "source": [
    "print(\"Accuracy is:\",accuracy_score(y_test,y_pred))\n",
    "print(\"Precision is:\",precision_score(y_test,y_pred,average='weighted'))\n",
    "print(\"Recall is:\",recall_score(y_test,y_pred,average='weighted'))\n",
    "print(\"F1 Score is:\",f1_score(y_test,y_pred,average='weighted'))"
   ]
  },
  {
   "cell_type": "code",
   "execution_count": 1229,
   "id": "783dbe6c",
   "metadata": {},
   "outputs": [
    {
     "data": {
      "text/plain": [
       "array([[12,  0,  0],\n",
       "       [ 0,  8,  0],\n",
       "       [ 0,  1,  9]], dtype=int64)"
      ]
     },
     "execution_count": 1229,
     "metadata": {},
     "output_type": "execute_result"
    }
   ],
   "source": [
    "confusion_matrix(y_test,y_pred)"
   ]
  },
  {
   "cell_type": "code",
   "execution_count": 1230,
   "id": "e1387e2b",
   "metadata": {},
   "outputs": [
    {
     "data": {
      "text/plain": [
       "PW      24.317643\n",
       "PL      21.101796\n",
       "sum     16.500715\n",
       "kurt    15.776338\n",
       "mean    14.622632\n",
       "SL       4.442936\n",
       "skew     1.644374\n",
       "SW       1.593566\n",
       "dtype: float64"
      ]
     },
     "execution_count": 1230,
     "metadata": {},
     "output_type": "execute_result"
    }
   ],
   "source": [
    "pd.Series(rf.feature_importances_,index=x.columns).sort_values(ascending=False)*100"
   ]
  },
  {
   "cell_type": "markdown",
   "id": "865e1b94",
   "metadata": {},
   "source": [
    "# 2. Building the model using Gradient Boosting"
   ]
  },
  {
   "cell_type": "markdown",
   "id": "bfa251a5",
   "metadata": {},
   "source": [
    "# 2.1 Gradient Boosting"
   ]
  },
  {
   "cell_type": "code",
   "execution_count": 1231,
   "id": "f353b8b3",
   "metadata": {},
   "outputs": [],
   "source": [
    "from sklearn.ensemble import GradientBoostingClassifier\n",
    "gb=GradientBoostingClassifier()\n",
    "gb.fit(x_train,y_train)\n",
    "y_predict=gb.predict(x_test)"
   ]
  },
  {
   "cell_type": "code",
   "execution_count": 1232,
   "id": "96fa11e8",
   "metadata": {},
   "outputs": [
    {
     "name": "stdout",
     "output_type": "stream",
     "text": [
      "Accuracy is: 0.9666666666666667\n",
      "Precision is: 0.9703703703703703\n",
      "Recall is: 0.9666666666666667\n",
      "F1 Score is: 0.9667698658410733\n"
     ]
    }
   ],
   "source": [
    "print(\"Accuracy is:\",accuracy_score(y_test,y_predict))\n",
    "print(\"Precision is:\",precision_score(y_test,y_predict,average='weighted'))\n",
    "print(\"Recall is:\",recall_score(y_test,y_predict,average='weighted'))\n",
    "print(\"F1 Score is:\",f1_score(y_test,y_predict,average='weighted'))"
   ]
  },
  {
   "cell_type": "code",
   "execution_count": 1233,
   "id": "70551fba",
   "metadata": {},
   "outputs": [
    {
     "data": {
      "text/plain": [
       "array([[12,  0,  0],\n",
       "       [ 0,  8,  0],\n",
       "       [ 0,  1,  9]], dtype=int64)"
      ]
     },
     "execution_count": 1233,
     "metadata": {},
     "output_type": "execute_result"
    }
   ],
   "source": [
    "confusion_matrix(y_test,y_predict)"
   ]
  },
  {
   "cell_type": "markdown",
   "id": "ba37adb2",
   "metadata": {},
   "source": [
    "# 2.2 Extreme Gradient Boosting"
   ]
  },
  {
   "cell_type": "code",
   "execution_count": 1234,
   "id": "1e88218c",
   "metadata": {},
   "outputs": [
    {
     "name": "stdout",
     "output_type": "stream",
     "text": [
      "[01:10:20] WARNING: ..\\src\\learner.cc:1115: Starting in XGBoost 1.3.0, the default evaluation metric used with the objective 'multi:softprob' was changed from 'merror' to 'mlogloss'. Explicitly set eval_metric if you'd like to restore the old behavior.\n"
     ]
    },
    {
     "name": "stderr",
     "output_type": "stream",
     "text": [
      "C:\\Users\\NJ\\anaconda3\\lib\\site-packages\\xgboost\\sklearn.py:1224: UserWarning: The use of label encoder in XGBClassifier is deprecated and will be removed in a future release. To remove this warning, do the following: 1) Pass option use_label_encoder=False when constructing XGBClassifier object; and 2) Encode your labels (y) as integers starting with 0, i.e. 0, 1, 2, ..., [num_class - 1].\n",
      "  warnings.warn(label_encoder_deprecation_msg, UserWarning)\n"
     ]
    }
   ],
   "source": [
    "from xgboost import XGBClassifier\n",
    "xgb=XGBClassifier()\n",
    "xgb.fit(x_train,y_train)\n",
    "y_predd=xgb.predict(x_test)"
   ]
  },
  {
   "cell_type": "code",
   "execution_count": 1235,
   "id": "8168d22f",
   "metadata": {},
   "outputs": [
    {
     "name": "stdout",
     "output_type": "stream",
     "text": [
      "Accuracy is: 0.9666666666666667\n",
      "Precision is: 0.9703703703703703\n",
      "Recall is: 0.9666666666666667\n",
      "F1 Score is: 0.9667698658410733\n"
     ]
    }
   ],
   "source": [
    "print(\"Accuracy is:\",accuracy_score(y_test,y_predd))\n",
    "print(\"Precision is:\",precision_score(y_test,y_predd,average='weighted'))\n",
    "print(\"Recall is:\",recall_score(y_test,y_predd,average='weighted'))\n",
    "print(\"F1 Score is:\",f1_score(y_test,y_predd,average='weighted'))"
   ]
  },
  {
   "cell_type": "code",
   "execution_count": 1236,
   "id": "95c03a2b",
   "metadata": {},
   "outputs": [
    {
     "data": {
      "text/plain": [
       "array([[12,  0,  0],\n",
       "       [ 0,  8,  0],\n",
       "       [ 0,  1,  9]], dtype=int64)"
      ]
     },
     "execution_count": 1236,
     "metadata": {},
     "output_type": "execute_result"
    }
   ],
   "source": [
    "confusion_matrix(y_test,y_predd)"
   ]
  },
  {
   "cell_type": "markdown",
   "id": "31e678f9",
   "metadata": {},
   "source": [
    "# 3. Building the model using Logistic regression"
   ]
  },
  {
   "cell_type": "code",
   "execution_count": 1237,
   "id": "f4482563",
   "metadata": {},
   "outputs": [],
   "source": [
    "from sklearn.linear_model import LogisticRegression\n",
    "log_r=LogisticRegression()\n",
    "log_r.fit(x_train,y_train)\n",
    "y_preddd=log_r.predict(x_test)"
   ]
  },
  {
   "cell_type": "code",
   "execution_count": 1238,
   "id": "49d79c2f",
   "metadata": {},
   "outputs": [
    {
     "name": "stdout",
     "output_type": "stream",
     "text": [
      "Accuracy is: 0.9666666666666667\n",
      "Precision is: 0.9703703703703703\n",
      "Recall is: 0.9666666666666667\n",
      "F1 Score is: 0.9667698658410733\n"
     ]
    }
   ],
   "source": [
    "print(\"Accuracy is:\",accuracy_score(y_test,y_preddd))\n",
    "print(\"Precision is:\",precision_score(y_test,y_preddd,average='weighted'))\n",
    "print(\"Recall is:\",recall_score(y_test,y_preddd,average='weighted'))\n",
    "print(\"F1 Score is:\",f1_score(y_test,y_preddd,average='weighted'))"
   ]
  },
  {
   "cell_type": "code",
   "execution_count": 1239,
   "id": "eff65f2f",
   "metadata": {},
   "outputs": [
    {
     "data": {
      "text/plain": [
       "array([[12,  0,  0],\n",
       "       [ 0,  8,  0],\n",
       "       [ 0,  1,  9]], dtype=int64)"
      ]
     },
     "execution_count": 1239,
     "metadata": {},
     "output_type": "execute_result"
    }
   ],
   "source": [
    "confusion_matrix(y_test,y_preddd)"
   ]
  },
  {
   "cell_type": "markdown",
   "id": "3c6660b9",
   "metadata": {},
   "source": [
    "# 4. Building the model using KNN Model"
   ]
  },
  {
   "cell_type": "code",
   "execution_count": 1240,
   "id": "6ee39972",
   "metadata": {},
   "outputs": [],
   "source": [
    "from sklearn.neighbors import KNeighborsClassifier\n",
    "acc_values=[]\n",
    "neighbors=np.arange(3,15)\n",
    "for k in neighbors:\n",
    "    classifier = KNeighborsClassifier(n_neighbors=k, metric='minkowski')\n",
    "    classifier.fit(x_train,y_train)\n",
    "    y_predic=classifier.predict(x_test)\n",
    "    acc=accuracy_score(y_test,y_predic)\n",
    "    acc_values.append(acc)\n"
   ]
  },
  {
   "cell_type": "code",
   "execution_count": 1241,
   "id": "101e5f89",
   "metadata": {},
   "outputs": [
    {
     "data": {
      "text/plain": [
       "[1.0,\n",
       " 0.9666666666666667,\n",
       " 0.9666666666666667,\n",
       " 0.9666666666666667,\n",
       " 0.9666666666666667,\n",
       " 0.9666666666666667,\n",
       " 0.9666666666666667,\n",
       " 0.9666666666666667,\n",
       " 0.9666666666666667,\n",
       " 0.9666666666666667,\n",
       " 0.9666666666666667,\n",
       " 0.9666666666666667]"
      ]
     },
     "execution_count": 1241,
     "metadata": {},
     "output_type": "execute_result"
    }
   ],
   "source": [
    "acc_values"
   ]
  },
  {
   "cell_type": "code",
   "execution_count": 1242,
   "id": "5a0ff67d",
   "metadata": {},
   "outputs": [
    {
     "data": {
      "text/plain": [
       "Text(0, 0.5, 'accuracy')"
      ]
     },
     "execution_count": 1242,
     "metadata": {},
     "output_type": "execute_result"
    },
    {
     "data": {
      "image/png": "[encoded data removed]",
      "text/plain": [
       "<Figure size 432x288 with 1 Axes>"
      ]
     },
     "metadata": {
      "needs_background": "light"
     },
     "output_type": "display_data"
    }
   ],
   "source": [
    "plt.plot(neighbors,acc_values,'o-')\n",
    "plt.xlabel('k value')\n",
    "plt.ylabel('accuracy')"
   ]
  },
  {
   "cell_type": "code",
   "execution_count": 1243,
   "id": "7e237515",
   "metadata": {},
   "outputs": [],
   "source": [
    "classifier = KNeighborsClassifier(n_neighbors=6, metric='minkowski')\n",
    "classifier.fit(x_train,y_train)\n",
    "y_predic=classifier.predict(x_test)"
   ]
  },
  {
   "cell_type": "code",
   "execution_count": 1244,
   "id": "d75d3ec5",
   "metadata": {},
   "outputs": [
    {
     "name": "stdout",
     "output_type": "stream",
     "text": [
      "Accuracy is: 0.9666666666666667\n",
      "Precision is: 0.9703703703703703\n",
      "Recall is: 0.9666666666666667\n",
      "F1 Score is: 0.9667698658410733\n"
     ]
    }
   ],
   "source": [
    "print(\"Accuracy is:\",accuracy_score(y_test,y_predic))\n",
    "print(\"Precision is:\",precision_score(y_test,y_predic,average='weighted'))\n",
    "print(\"Recall is:\",recall_score(y_test,y_predic,average='weighted'))\n",
    "print(\"F1 Score is:\",f1_score(y_test,y_predic,average='weighted'))"
   ]
  },
  {
   "cell_type": "code",
   "execution_count": 1245,
   "id": "1bb829fa",
   "metadata": {},
   "outputs": [
    {
     "data": {
      "text/plain": [
       "array([[12,  0,  0],\n",
       "       [ 0,  8,  0],\n",
       "       [ 0,  1,  9]], dtype=int64)"
      ]
     },
     "execution_count": 1245,
     "metadata": {},
     "output_type": "execute_result"
    }
   ],
   "source": [
    "confusion_matrix(y_test,y_predic)"
   ]
  },
  {
   "cell_type": "markdown",
   "id": "bdaaebc7",
   "metadata": {},
   "source": [
    "#  5. Building the model using Decision Tree Model¶"
   ]
  },
  {
   "cell_type": "code",
   "execution_count": 1246,
   "id": "76dfc2bd",
   "metadata": {},
   "outputs": [],
   "source": [
    "from sklearn.tree import DecisionTreeClassifier"
   ]
  },
  {
   "cell_type": "code",
   "execution_count": 1247,
   "id": "7e64a8e1",
   "metadata": {},
   "outputs": [],
   "source": [
    "dt=DecisionTreeClassifier()\n",
    "dt.fit(x_train,y_train)\n",
    "y_pr=dt.predict(x_test)"
   ]
  },
  {
   "cell_type": "code",
   "execution_count": 1248,
   "id": "cb9a1f76",
   "metadata": {},
   "outputs": [
    {
     "name": "stdout",
     "output_type": "stream",
     "text": [
      "Accuracy is: 1.0\n",
      "Precision is: 1.0\n",
      "Recall is: 1.0\n",
      "F1 Score is: 1.0\n"
     ]
    }
   ],
   "source": [
    "print(\"Accuracy is:\",accuracy_score(y_test,y_pr))\n",
    "print(\"Precision is:\",precision_score(y_test,y_pr,average='weighted'))\n",
    "print(\"Recall is:\",recall_score(y_test,y_pr,average='weighted'))\n",
    "print(\"F1 Score is:\",f1_score(y_test,y_pr,average='weighted'))"
   ]
  },
  {
   "cell_type": "code",
   "execution_count": 1249,
   "id": "04363395",
   "metadata": {},
   "outputs": [
    {
     "data": {
      "text/plain": [
       "array([[12,  0,  0],\n",
       "       [ 0,  8,  0],\n",
       "       [ 0,  0, 10]], dtype=int64)"
      ]
     },
     "execution_count": 1249,
     "metadata": {},
     "output_type": "execute_result"
    }
   ],
   "source": [
    "confusion_matrix(y_test,y_pr)"
   ]
  },
  {
   "cell_type": "markdown",
   "id": "492574f3",
   "metadata": {},
   "source": [
    "# 6. Building the model using SVM Model¶"
   ]
  },
  {
   "cell_type": "code",
   "execution_count": 1250,
   "id": "b514b264",
   "metadata": {},
   "outputs": [],
   "source": [
    "from sklearn.svm import SVC"
   ]
  },
  {
   "cell_type": "markdown",
   "id": "8ad586b0",
   "metadata": {},
   "source": [
    "# 6.1 Linear SVM"
   ]
  },
  {
   "cell_type": "code",
   "execution_count": 1251,
   "id": "fbe01af5",
   "metadata": {},
   "outputs": [],
   "source": [
    "svm_linear=SVC(kernel='linear')\n",
    "svm_linear.fit(x_train,y_train)\n",
    "y_pre=svm_linear.predict(x_test)"
   ]
  },
  {
   "cell_type": "code",
   "execution_count": 1252,
   "id": "1471b2e9",
   "metadata": {},
   "outputs": [
    {
     "name": "stdout",
     "output_type": "stream",
     "text": [
      "Accuracy is: 0.9666666666666667\n",
      "Precision is: 0.9703703703703703\n",
      "Recall is: 0.9666666666666667\n",
      "F1 Score is: 0.9667698658410733\n"
     ]
    }
   ],
   "source": [
    "print(\"Accuracy is:\",accuracy_score(y_test,y_pre))\n",
    "print(\"Precision is:\",precision_score(y_test,y_pre,average='weighted'))\n",
    "print(\"Recall is:\",recall_score(y_test,y_pre,average='weighted'))\n",
    "print(\"F1 Score is:\",f1_score(y_test,y_pre,average='weighted'))"
   ]
  },
  {
   "cell_type": "code",
   "execution_count": 1253,
   "id": "480388b9",
   "metadata": {},
   "outputs": [
    {
     "data": {
      "text/plain": [
       "array([[12,  0,  0],\n",
       "       [ 0,  8,  0],\n",
       "       [ 0,  1,  9]], dtype=int64)"
      ]
     },
     "execution_count": 1253,
     "metadata": {},
     "output_type": "execute_result"
    }
   ],
   "source": [
    "confusion_matrix(y_test,y_pre)"
   ]
  },
  {
   "cell_type": "markdown",
   "id": "1a3ca47a",
   "metadata": {},
   "source": [
    "# 6.2 Polynomial SVM"
   ]
  },
  {
   "cell_type": "code",
   "execution_count": 1254,
   "id": "76847cce",
   "metadata": {},
   "outputs": [],
   "source": [
    "svm_poly=SVC(kernel='poly',degree=3)\n",
    "svm_poly.fit(x_train,y_train)\n",
    "y_pre1=svm_poly.predict(x_test)"
   ]
  },
  {
   "cell_type": "code",
   "execution_count": 1255,
   "id": "3581c550",
   "metadata": {},
   "outputs": [
    {
     "name": "stdout",
     "output_type": "stream",
     "text": [
      "Accuracy is: 0.9333333333333333\n",
      "Precision is: 0.9444444444444445\n",
      "Recall is: 0.9333333333333333\n",
      "F1 Score is: 0.9316017316017315\n"
     ]
    }
   ],
   "source": [
    "print(\"Accuracy is:\",accuracy_score(y_test,y_pre1))\n",
    "print(\"Precision is:\",precision_score(y_test,y_pre1,average='weighted'))\n",
    "print(\"Recall is:\",recall_score(y_test,y_pre1,average='weighted'))\n",
    "print(\"F1 Score is:\",f1_score(y_test,y_pre1,average='weighted'))"
   ]
  },
  {
   "cell_type": "code",
   "execution_count": 1256,
   "id": "ef2efb9c",
   "metadata": {},
   "outputs": [
    {
     "data": {
      "text/plain": [
       "array([[12,  0,  0],\n",
       "       [ 0,  6,  2],\n",
       "       [ 0,  0, 10]], dtype=int64)"
      ]
     },
     "execution_count": 1256,
     "metadata": {},
     "output_type": "execute_result"
    }
   ],
   "source": [
    "confusion_matrix(y_test,y_pre1)"
   ]
  },
  {
   "cell_type": "markdown",
   "id": "d5f2ed9c",
   "metadata": {},
   "source": [
    "# 6.3 Radial SVM"
   ]
  },
  {
   "cell_type": "code",
   "execution_count": 1257,
   "id": "31f091b5",
   "metadata": {
    "scrolled": true
   },
   "outputs": [],
   "source": [
    "svm_rad=SVC(kernel='rbf')\n",
    "svm_rad.fit(x_train,y_train)\n",
    "y_pre2=svm_rad.predict(x_test)"
   ]
  },
  {
   "cell_type": "code",
   "execution_count": 1258,
   "id": "b701f7e1",
   "metadata": {},
   "outputs": [
    {
     "name": "stdout",
     "output_type": "stream",
     "text": [
      "Accuracy is: 0.9666666666666667\n",
      "Precision is: 0.9703703703703703\n",
      "Recall is: 0.9666666666666667\n",
      "F1 Score is: 0.9667698658410733\n"
     ]
    }
   ],
   "source": [
    "print(\"Accuracy is:\",accuracy_score(y_test,y_pre2))\n",
    "print(\"Precision is:\",precision_score(y_test,y_pre2,average='weighted'))\n",
    "print(\"Recall is:\",recall_score(y_test,y_pre2,average='weighted'))\n",
    "print(\"F1 Score is:\",f1_score(y_test,y_pre2,average='weighted'))"
   ]
  },
  {
   "cell_type": "code",
   "execution_count": 1259,
   "id": "30839a36",
   "metadata": {},
   "outputs": [
    {
     "data": {
      "text/plain": [
       "array([[12,  0,  0],\n",
       "       [ 0,  8,  0],\n",
       "       [ 0,  1,  9]], dtype=int64)"
      ]
     },
     "execution_count": 1259,
     "metadata": {},
     "output_type": "execute_result"
    }
   ],
   "source": [
    "confusion_matrix(y_test,y_pre2)"
   ]
  },
  {
   "cell_type": "markdown",
   "id": "94af0c49",
   "metadata": {},
   "source": [
    "# Insight\n",
    "    The decision tree model has the highest vaules.\n",
    "    Accuracy is: 1.0\n",
    "    Precision is: 1.0\n",
    "    Recall is: 1.0\n",
    "    F1 Score is: 1.0\n",
    "    Hence it is the best model"
   ]
  }
 ],
 "metadata": {
  "kernelspec": {
   "display_name": "Python 3",
   "language": "python",
   "name": "python3"
  },
  "language_info": {
   "codemirror_mode": {
    "name": "ipython",
    "version": 3
   },
   "file_extension": ".py",
   "mimetype": "text/x-python",
   "name": "python",
   "nbconvert_exporter": "python",
   "pygments_lexer": "ipython3",
   "version": "3.8.8"
  }
 },
 "nbformat": 4,
 "nbformat_minor": 5
}
