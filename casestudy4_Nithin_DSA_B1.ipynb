{
 "cells": [
  {
   "cell_type": "markdown",
   "id": "d03c5de6",
   "metadata": {},
   "source": [
    "# Case Study on Testing of Hypothesis\n",
    "## A company started to invest in digital marketing as a new way of their product promotions.For that they collected data and decided to carry out a study on it.\n",
    "   ### ● The company wishes to clarify whether there is any increase in sales after stepping into digital marketing.\n",
    "   ###  ● The company needs to check whether there is any dependency between the features “Region” and “Manager”.\n",
    "#### Help the company to carry out their study with the help of data provided.\n"
   ]
  },
  {
   "cell_type": "code",
   "execution_count": 144,
   "id": "f546817e",
   "metadata": {},
   "outputs": [],
   "source": [
    "#importing libraries\n",
    "import pandas as pd\n",
    "import numpy as np\n",
    "import matplotlib.pyplot as plt\n",
    "import seaborn as sns\n",
    "import scipy.stats as stats\n",
    "from scipy.stats import chi2_contingency "
   ]
  },
  {
   "cell_type": "code",
   "execution_count": 145,
   "id": "8c466670",
   "metadata": {},
   "outputs": [],
   "source": [
    "df=pd.read_csv('Sales_add.csv')"
   ]
  },
  {
   "cell_type": "code",
   "execution_count": 146,
   "id": "d54e9bbe",
   "metadata": {},
   "outputs": [
    {
     "data": {
      "text/html": [
       "<div>\n",
       "<style scoped>\n",
       "    .dataframe tbody tr th:only-of-type {\n",
       "        vertical-align: middle;\n",
       "    }\n",
       "\n",
       "    .dataframe tbody tr th {\n",
       "        vertical-align: top;\n",
       "    }\n",
       "\n",
       "    .dataframe thead th {\n",
       "        text-align: right;\n",
       "    }\n",
       "</style>\n",
       "<table border=\"1\" class=\"dataframe\">\n",
       "  <thead>\n",
       "    <tr style=\"text-align: right;\">\n",
       "      <th></th>\n",
       "      <th>Month</th>\n",
       "      <th>Region</th>\n",
       "      <th>Manager</th>\n",
       "      <th>Sales_before_digital_add(in $)</th>\n",
       "      <th>Sales_After_digital_add(in $)</th>\n",
       "    </tr>\n",
       "  </thead>\n",
       "  <tbody>\n",
       "    <tr>\n",
       "      <th>0</th>\n",
       "      <td>Month-1</td>\n",
       "      <td>Region - A</td>\n",
       "      <td>Manager - A</td>\n",
       "      <td>132921</td>\n",
       "      <td>270390</td>\n",
       "    </tr>\n",
       "    <tr>\n",
       "      <th>1</th>\n",
       "      <td>Month-2</td>\n",
       "      <td>Region - A</td>\n",
       "      <td>Manager - C</td>\n",
       "      <td>149559</td>\n",
       "      <td>223334</td>\n",
       "    </tr>\n",
       "    <tr>\n",
       "      <th>2</th>\n",
       "      <td>Month-3</td>\n",
       "      <td>Region - B</td>\n",
       "      <td>Manager - A</td>\n",
       "      <td>146278</td>\n",
       "      <td>244243</td>\n",
       "    </tr>\n",
       "    <tr>\n",
       "      <th>3</th>\n",
       "      <td>Month-4</td>\n",
       "      <td>Region - B</td>\n",
       "      <td>Manager - B</td>\n",
       "      <td>152167</td>\n",
       "      <td>231808</td>\n",
       "    </tr>\n",
       "    <tr>\n",
       "      <th>4</th>\n",
       "      <td>Month-5</td>\n",
       "      <td>Region - C</td>\n",
       "      <td>Manager - B</td>\n",
       "      <td>159525</td>\n",
       "      <td>258402</td>\n",
       "    </tr>\n",
       "  </tbody>\n",
       "</table>\n",
       "</div>"
      ],
      "text/plain": [
       "     Month      Region      Manager  Sales_before_digital_add(in $)  \\\n",
       "0  Month-1  Region - A  Manager - A                          132921   \n",
       "1  Month-2  Region - A  Manager - C                          149559   \n",
       "2  Month-3  Region - B  Manager - A                          146278   \n",
       "3  Month-4  Region - B  Manager - B                          152167   \n",
       "4  Month-5  Region - C  Manager - B                          159525   \n",
       "\n",
       "   Sales_After_digital_add(in $)  \n",
       "0                         270390  \n",
       "1                         223334  \n",
       "2                         244243  \n",
       "3                         231808  \n",
       "4                         258402  "
      ]
     },
     "execution_count": 146,
     "metadata": {},
     "output_type": "execute_result"
    }
   ],
   "source": [
    "df.head()"
   ]
  },
  {
   "cell_type": "code",
   "execution_count": 147,
   "id": "f6f052e3",
   "metadata": {},
   "outputs": [
    {
     "name": "stdout",
     "output_type": "stream",
     "text": [
      "<class 'pandas.core.frame.DataFrame'>\n",
      "RangeIndex: 22 entries, 0 to 21\n",
      "Data columns (total 5 columns):\n",
      " #   Column                          Non-Null Count  Dtype \n",
      "---  ------                          --------------  ----- \n",
      " 0   Month                           22 non-null     object\n",
      " 1   Region                          22 non-null     object\n",
      " 2   Manager                         22 non-null     object\n",
      " 3   Sales_before_digital_add(in $)  22 non-null     int64 \n",
      " 4   Sales_After_digital_add(in $)   22 non-null     int64 \n",
      "dtypes: int64(2), object(3)\n",
      "memory usage: 1008.0+ bytes\n"
     ]
    }
   ],
   "source": [
    "df.info()"
   ]
  },
  {
   "cell_type": "markdown",
   "id": "fdcf0b9d",
   "metadata": {},
   "source": [
    "# 1.Descriptive analysis on the dataset."
   ]
  },
  {
   "cell_type": "code",
   "execution_count": 148,
   "id": "eee02ec9",
   "metadata": {},
   "outputs": [
    {
     "data": {
      "text/html": [
       "<div>\n",
       "<style scoped>\n",
       "    .dataframe tbody tr th:only-of-type {\n",
       "        vertical-align: middle;\n",
       "    }\n",
       "\n",
       "    .dataframe tbody tr th {\n",
       "        vertical-align: top;\n",
       "    }\n",
       "\n",
       "    .dataframe thead th {\n",
       "        text-align: right;\n",
       "    }\n",
       "</style>\n",
       "<table border=\"1\" class=\"dataframe\">\n",
       "  <thead>\n",
       "    <tr style=\"text-align: right;\">\n",
       "      <th></th>\n",
       "      <th>Sales_before_digital_add(in $)</th>\n",
       "      <th>Sales_After_digital_add(in $)</th>\n",
       "    </tr>\n",
       "  </thead>\n",
       "  <tbody>\n",
       "    <tr>\n",
       "      <th>count</th>\n",
       "      <td>22.000000</td>\n",
       "      <td>22.000000</td>\n",
       "    </tr>\n",
       "    <tr>\n",
       "      <th>mean</th>\n",
       "      <td>149239.954545</td>\n",
       "      <td>231123.727273</td>\n",
       "    </tr>\n",
       "    <tr>\n",
       "      <th>std</th>\n",
       "      <td>14844.042921</td>\n",
       "      <td>25556.777061</td>\n",
       "    </tr>\n",
       "    <tr>\n",
       "      <th>min</th>\n",
       "      <td>130263.000000</td>\n",
       "      <td>187305.000000</td>\n",
       "    </tr>\n",
       "    <tr>\n",
       "      <th>25%</th>\n",
       "      <td>138087.750000</td>\n",
       "      <td>214960.750000</td>\n",
       "    </tr>\n",
       "    <tr>\n",
       "      <th>50%</th>\n",
       "      <td>147444.000000</td>\n",
       "      <td>229986.500000</td>\n",
       "    </tr>\n",
       "    <tr>\n",
       "      <th>75%</th>\n",
       "      <td>157627.500000</td>\n",
       "      <td>250909.000000</td>\n",
       "    </tr>\n",
       "    <tr>\n",
       "      <th>max</th>\n",
       "      <td>178939.000000</td>\n",
       "      <td>276279.000000</td>\n",
       "    </tr>\n",
       "  </tbody>\n",
       "</table>\n",
       "</div>"
      ],
      "text/plain": [
       "       Sales_before_digital_add(in $)  Sales_After_digital_add(in $)\n",
       "count                       22.000000                      22.000000\n",
       "mean                    149239.954545                  231123.727273\n",
       "std                      14844.042921                   25556.777061\n",
       "min                     130263.000000                  187305.000000\n",
       "25%                     138087.750000                  214960.750000\n",
       "50%                     147444.000000                  229986.500000\n",
       "75%                     157627.500000                  250909.000000\n",
       "max                     178939.000000                  276279.000000"
      ]
     },
     "execution_count": 148,
     "metadata": {},
     "output_type": "execute_result"
    }
   ],
   "source": [
    "df.describe()"
   ]
  },
  {
   "cell_type": "markdown",
   "id": "aca587ab",
   "metadata": {},
   "source": [
    "## Insights:\n",
    "    1.The given dataset contains 22 rows and 4 columns.\n",
    "    2.This dataset is not containing any null values.\n",
    "    3The average sales before digital marketing add is 149239.95 and average sales after digital add is 231123.73."
   ]
  },
  {
   "cell_type": "markdown",
   "id": "4d553cba",
   "metadata": {},
   "source": [
    "#  ●The company wishes to clarify whether there is any increase in sales after stepping into digital marketing.\n",
    "## One tailed Paired Samples T-Test.\n",
    "## Hypothesis:\n",
    "*  **Ho**:The sales before and after stepping into digital marketing are same\n",
    "*  **Ha**:The sales after stepping into digital marketing is more.\n",
    "*  $\\alpha $: 0.05\n",
    "\n"
   ]
  },
  {
   "cell_type": "code",
   "execution_count": 169,
   "id": "3ee5499e",
   "metadata": {},
   "outputs": [],
   "source": [
    "sales_BDM=df['Sales_before_digital_add(in $)']\n",
    "sales_ADM=df['Sales_After_digital_add(in $)']"
   ]
  },
  {
   "cell_type": "code",
   "execution_count": 173,
   "id": "6d10a9ae",
   "metadata": {},
   "outputs": [
    {
     "name": "stdout",
     "output_type": "stream",
     "text": [
      "The t value of means is:  12.0907\n",
      "The p value based on the t score is:  0.0\n"
     ]
    }
   ],
   "source": [
    "tvalue, pvalue=stats.ttest_rel(sales_ADM,sales_BDM,alternative='greater')\n",
    "print(\"The t value of means is: \", round(tvalue, 4))\n",
    "print(\"The p value based on the t score is: \", round(pvalue,4))"
   ]
  },
  {
   "cell_type": "code",
   "execution_count": 172,
   "id": "eed225e4",
   "metadata": {},
   "outputs": [
    {
     "data": {
      "text/plain": [
       "Ttest_relResult(statistic=12.09070525287017, pvalue=3.168333502287889e-11)"
      ]
     },
     "execution_count": 172,
     "metadata": {},
     "output_type": "execute_result"
    }
   ],
   "source": [
    "stats.ttest_rel(sales_ADM,sales_BDM,alternative='greater')"
   ]
  },
  {
   "cell_type": "markdown",
   "id": "8108f4a0",
   "metadata": {},
   "source": [
    "## From above T test,  0 is the p-value, 12.0907 is the statistical value.\n",
    "## As the p-value=0.0< $\\alpha$=0.05 and hence we reject the null Hypothesis\n",
    "## ie. The sales after stepping into digital marketing is more."
   ]
  },
  {
   "cell_type": "markdown",
   "id": "80112e91",
   "metadata": {},
   "source": []
  },
  {
   "cell_type": "markdown",
   "id": "cd6f0acd",
   "metadata": {},
   "source": [
    "# ●The company needs to check whether there is any dependency between the features “Region” and “Manager”.\n",
    "## Chi Square test for Dependency\n",
    "## Hypothesis:\n",
    "*  **Ho** :The 2 features “Region” and “Manager” which are to be compared are independent.\n",
    "*  **Ha** :The 2 features are dependent.\n",
    "*  $\\alpha$ : 0.05\n",
    "\n"
   ]
  },
  {
   "cell_type": "code",
   "execution_count": 152,
   "id": "9ea5107a",
   "metadata": {},
   "outputs": [
    {
     "data": {
      "text/html": [
       "<div>\n",
       "<style scoped>\n",
       "    .dataframe tbody tr th:only-of-type {\n",
       "        vertical-align: middle;\n",
       "    }\n",
       "\n",
       "    .dataframe tbody tr th {\n",
       "        vertical-align: top;\n",
       "    }\n",
       "\n",
       "    .dataframe thead th {\n",
       "        text-align: right;\n",
       "    }\n",
       "</style>\n",
       "<table border=\"1\" class=\"dataframe\">\n",
       "  <thead>\n",
       "    <tr style=\"text-align: right;\">\n",
       "      <th>Manager</th>\n",
       "      <th>Manager - A</th>\n",
       "      <th>Manager - B</th>\n",
       "      <th>Manager - C</th>\n",
       "      <th>All</th>\n",
       "    </tr>\n",
       "    <tr>\n",
       "      <th>Region</th>\n",
       "      <th></th>\n",
       "      <th></th>\n",
       "      <th></th>\n",
       "      <th></th>\n",
       "    </tr>\n",
       "  </thead>\n",
       "  <tbody>\n",
       "    <tr>\n",
       "      <th>Region - A</th>\n",
       "      <td>594514</td>\n",
       "      <td>466851</td>\n",
       "      <td>420684</td>\n",
       "      <td>1482049</td>\n",
       "    </tr>\n",
       "    <tr>\n",
       "      <th>Region - B</th>\n",
       "      <td>570900</td>\n",
       "      <td>152167</td>\n",
       "      <td>330598</td>\n",
       "      <td>1053665</td>\n",
       "    </tr>\n",
       "    <tr>\n",
       "      <th>Region - C</th>\n",
       "      <td>147463</td>\n",
       "      <td>469477</td>\n",
       "      <td>130625</td>\n",
       "      <td>747565</td>\n",
       "    </tr>\n",
       "    <tr>\n",
       "      <th>All</th>\n",
       "      <td>1312877</td>\n",
       "      <td>1088495</td>\n",
       "      <td>881907</td>\n",
       "      <td>3283279</td>\n",
       "    </tr>\n",
       "  </tbody>\n",
       "</table>\n",
       "</div>"
      ],
      "text/plain": [
       "Manager     Manager - A  Manager - B  Manager - C      All\n",
       "Region                                                    \n",
       "Region - A       594514       466851       420684  1482049\n",
       "Region - B       570900       152167       330598  1053665\n",
       "Region - C       147463       469477       130625   747565\n",
       "All             1312877      1088495       881907  3283279"
      ]
     },
     "execution_count": 152,
     "metadata": {},
     "output_type": "execute_result"
    }
   ],
   "source": [
    "df3=pd.crosstab(df.Region, df.Manager, margins=True,values=df['Sales_before_digital_add(in $)'],aggfunc=np.sum)\n",
    "df3"
   ]
  },
  {
   "cell_type": "code",
   "execution_count": 153,
   "id": "224f5f6d",
   "metadata": {},
   "outputs": [],
   "source": [
    "valueBDM = np.array([df3.iloc[0][0:3].values,\n",
    "                  df3.iloc[1][0:3].values,\n",
    "                  df3.iloc[2][0:3].values])\n",
    "stat, p, dof, expected=chi2_contingency(valueBDM)"
   ]
  },
  {
   "cell_type": "code",
   "execution_count": 154,
   "id": "fd69e87c",
   "metadata": {},
   "outputs": [
    {
     "name": "stdout",
     "output_type": "stream",
     "text": [
      "(474356.9740349385, 0.0, 4)\n",
      "p value is 0.0\n",
      "Dependent (reject H0)\n"
     ]
    }
   ],
   "source": [
    "print(chi2_contingency(valueBDM)[0:3])\n",
    "alpha = 0.05\n",
    "print(\"p value is \" + str(p))\n",
    "if p <= alpha:\n",
    "    print('Dependent (reject H0)')\n",
    "else:\n",
    "    print('Independent (H0 holds true)')"
   ]
  },
  {
   "cell_type": "code",
   "execution_count": 155,
   "id": "9289136b",
   "metadata": {},
   "outputs": [
    {
     "data": {
      "text/html": [
       "<div>\n",
       "<style scoped>\n",
       "    .dataframe tbody tr th:only-of-type {\n",
       "        vertical-align: middle;\n",
       "    }\n",
       "\n",
       "    .dataframe tbody tr th {\n",
       "        vertical-align: top;\n",
       "    }\n",
       "\n",
       "    .dataframe thead th {\n",
       "        text-align: right;\n",
       "    }\n",
       "</style>\n",
       "<table border=\"1\" class=\"dataframe\">\n",
       "  <thead>\n",
       "    <tr style=\"text-align: right;\">\n",
       "      <th>Manager</th>\n",
       "      <th>Manager - A</th>\n",
       "      <th>Manager - B</th>\n",
       "      <th>Manager - C</th>\n",
       "      <th>All</th>\n",
       "    </tr>\n",
       "    <tr>\n",
       "      <th>Region</th>\n",
       "      <th></th>\n",
       "      <th></th>\n",
       "      <th></th>\n",
       "      <th></th>\n",
       "    </tr>\n",
       "  </thead>\n",
       "  <tbody>\n",
       "    <tr>\n",
       "      <th>Region - A</th>\n",
       "      <td>1030437</td>\n",
       "      <td>656832</td>\n",
       "      <td>701262</td>\n",
       "      <td>2388531</td>\n",
       "    </tr>\n",
       "    <tr>\n",
       "      <th>Region - B</th>\n",
       "      <td>939851</td>\n",
       "      <td>231808</td>\n",
       "      <td>429436</td>\n",
       "      <td>1601095</td>\n",
       "    </tr>\n",
       "    <tr>\n",
       "      <th>Region - C</th>\n",
       "      <td>229336</td>\n",
       "      <td>643654</td>\n",
       "      <td>222106</td>\n",
       "      <td>1095096</td>\n",
       "    </tr>\n",
       "    <tr>\n",
       "      <th>All</th>\n",
       "      <td>2199624</td>\n",
       "      <td>1532294</td>\n",
       "      <td>1352804</td>\n",
       "      <td>5084722</td>\n",
       "    </tr>\n",
       "  </tbody>\n",
       "</table>\n",
       "</div>"
      ],
      "text/plain": [
       "Manager     Manager - A  Manager - B  Manager - C      All\n",
       "Region                                                    \n",
       "Region - A      1030437       656832       701262  2388531\n",
       "Region - B       939851       231808       429436  1601095\n",
       "Region - C       229336       643654       222106  1095096\n",
       "All             2199624      1532294      1352804  5084722"
      ]
     },
     "execution_count": 155,
     "metadata": {},
     "output_type": "execute_result"
    }
   ],
   "source": [
    "df4=pd.crosstab(df.Region, df.Manager, margins=True,values=df['Sales_After_digital_add(in $)'],aggfunc=np.sum)\n",
    "df4"
   ]
  },
  {
   "cell_type": "code",
   "execution_count": 156,
   "id": "eadf78cd",
   "metadata": {},
   "outputs": [],
   "source": [
    "valueADM = np.array([df4.iloc[0][0:3].values,\n",
    "                  df4.iloc[1][0:3].values,\n",
    "                  df4.iloc[2][0:3].values])\n",
    "stat, p, dof, expected=chi2_contingency(valueADM)"
   ]
  },
  {
   "cell_type": "code",
   "execution_count": 157,
   "id": "4fcb4ed0",
   "metadata": {},
   "outputs": [
    {
     "name": "stdout",
     "output_type": "stream",
     "text": [
      "(671476.3637089065, 0.0, 4)\n",
      "p value is 0.0\n",
      "Dependent (reject H0)\n"
     ]
    }
   ],
   "source": [
    "print(chi2_contingency(valueADM)[0:3])\n",
    "alpha = 0.05\n",
    "print(\"p value is \" + str(p))\n",
    "if p <= alpha:\n",
    "    print('Dependent (reject H0)')\n",
    "else:\n",
    "    print('Independent (H0 holds true)')"
   ]
  },
  {
   "cell_type": "markdown",
   "id": "975c25ad",
   "metadata": {},
   "source": [
    "# From above two cases of considering both with and wihout Digital marketing,  0 is the p-value for both cases ,474356.97 and 671476.36 is the statistical value respectively and 4 is the degree of freedom. \n",
    "## As the p-value=0.0<  𝛼 =0.05 and hence we reject the NULL Hypothesis.\n",
    "## Ie. The 2 features “Region” and “Manager” which are to be compared are dependent."
   ]
  },
  {
   "cell_type": "code",
   "execution_count": null,
   "id": "0ebfacb1",
   "metadata": {},
   "outputs": [],
   "source": []
  }
 ],
 "metadata": {
  "kernelspec": {
   "display_name": "Python 3",
   "language": "python",
   "name": "python3"
  },
  "language_info": {
   "codemirror_mode": {
    "name": "ipython",
    "version": 3
   },
   "file_extension": ".py",
   "mimetype": "text/x-python",
   "name": "python",
   "nbconvert_exporter": "python",
   "pygments_lexer": "ipython3",
   "version": "3.8.8"
  }
 },
 "nbformat": 4,
 "nbformat_minor": 5
}
